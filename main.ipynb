{
 "cells": [
  {
   "cell_type": "markdown",
   "metadata": {},
   "source": [
    "Import the classes and methods from the other files"
   ]
  },
  {
   "cell_type": "code",
   "execution_count": 1,
   "metadata": {},
   "outputs": [],
   "source": [
    "from database_utils import DatabaseConnector as dc\n",
    "from data_extraction import DataExtractor as de\n",
    "from data_cleaning import DataCleaning as cl\n",
    "import pandas as pd"
   ]
  },
  {
   "cell_type": "markdown",
   "metadata": {},
   "source": [
    "Initialise an instance of the DataCleaning class"
   ]
  },
  {
   "cell_type": "code",
   "execution_count": 2,
   "metadata": {},
   "outputs": [],
   "source": [
    "cleaner = cl()"
   ]
  },
  {
   "cell_type": "markdown",
   "metadata": {},
   "source": [
    "Extract and clean the user data"
   ]
  },
  {
   "cell_type": "code",
   "execution_count": 3,
   "metadata": {},
   "outputs": [
    {
     "name": "stdout",
     "output_type": "stream",
     "text": [
      "<class 'pandas.core.frame.DataFrame'>\n",
      "RangeIndex: 15284 entries, 0 to 15283\n",
      "Data columns (total 11 columns):\n",
      " #   Column         Non-Null Count  Dtype         \n",
      "---  ------         --------------  -----         \n",
      " 0   first_name     15284 non-null  object        \n",
      " 1   last_name      15284 non-null  object        \n",
      " 2   date_of_birth  15284 non-null  datetime64[ns]\n",
      " 3   company        15284 non-null  object        \n",
      " 4   email_address  15284 non-null  object        \n",
      " 5   address        15284 non-null  object        \n",
      " 6   country        15284 non-null  category      \n",
      " 7   country_code   15284 non-null  category      \n",
      " 8   phone_number   15284 non-null  object        \n",
      " 9   join_date      15284 non-null  datetime64[ns]\n",
      " 10  user_uuid      15284 non-null  object        \n",
      "dtypes: category(2), datetime64[ns](2), object(7)\n",
      "memory usage: 1.1+ MB\n"
     ]
    },
    {
     "data": {
      "text/html": [
       "<div>\n",
       "<style scoped>\n",
       "    .dataframe tbody tr th:only-of-type {\n",
       "        vertical-align: middle;\n",
       "    }\n",
       "\n",
       "    .dataframe tbody tr th {\n",
       "        vertical-align: top;\n",
       "    }\n",
       "\n",
       "    .dataframe thead th {\n",
       "        text-align: right;\n",
       "    }\n",
       "</style>\n",
       "<table border=\"1\" class=\"dataframe\">\n",
       "  <thead>\n",
       "    <tr style=\"text-align: right;\">\n",
       "      <th></th>\n",
       "      <th>first_name</th>\n",
       "      <th>last_name</th>\n",
       "      <th>date_of_birth</th>\n",
       "      <th>company</th>\n",
       "      <th>email_address</th>\n",
       "      <th>address</th>\n",
       "      <th>country</th>\n",
       "      <th>country_code</th>\n",
       "      <th>phone_number</th>\n",
       "      <th>join_date</th>\n",
       "      <th>user_uuid</th>\n",
       "    </tr>\n",
       "  </thead>\n",
       "  <tbody>\n",
       "    <tr>\n",
       "      <th>0</th>\n",
       "      <td>sigfried</td>\n",
       "      <td>noack</td>\n",
       "      <td>1990-09-30</td>\n",
       "      <td>heydrich junitz kg</td>\n",
       "      <td>rudi79@winkler.de</td>\n",
       "      <td>zimmerstr. 10, 59015 gießen</td>\n",
       "      <td>Germany</td>\n",
       "      <td>DE</td>\n",
       "      <td>+49(0) 047905356</td>\n",
       "      <td>2018-10-10</td>\n",
       "      <td>93caf182-e4e9-4c6e-bebb-60a1a9dcf9b8</td>\n",
       "    </tr>\n",
       "    <tr>\n",
       "      <th>1</th>\n",
       "      <td>guy</td>\n",
       "      <td>allen</td>\n",
       "      <td>1940-12-01</td>\n",
       "      <td>fox ltd</td>\n",
       "      <td>rhodesclifford@henderson.com</td>\n",
       "      <td>studio 22a, lynne terrace, mccarthymouth, tf0 9gh</td>\n",
       "      <td>United Kingdom</td>\n",
       "      <td>GB</td>\n",
       "      <td>(0161) 496 0674</td>\n",
       "      <td>2001-12-20</td>\n",
       "      <td>8fe96c3a-d62d-4eb5-b313-cf12d9126a49</td>\n",
       "    </tr>\n",
       "    <tr>\n",
       "      <th>2</th>\n",
       "      <td>harry</td>\n",
       "      <td>lawrence</td>\n",
       "      <td>1995-08-02</td>\n",
       "      <td>johnson, jones and harris</td>\n",
       "      <td>glen98@bryant-marshall.co.uk</td>\n",
       "      <td>92 ann drive, joanborough, sk0 6lr</td>\n",
       "      <td>United Kingdom</td>\n",
       "      <td>GB</td>\n",
       "      <td>+44(0)121 4960340</td>\n",
       "      <td>2016-12-16</td>\n",
       "      <td>fc461df4-b919-48b2-909e-55c95a03fe6b</td>\n",
       "    </tr>\n",
       "    <tr>\n",
       "      <th>3</th>\n",
       "      <td>darren</td>\n",
       "      <td>hussain</td>\n",
       "      <td>1972-09-23</td>\n",
       "      <td>wheeler llc</td>\n",
       "      <td>daniellebryan@thompson.org</td>\n",
       "      <td>19 robinson meadow, new tracy, w22 2qg</td>\n",
       "      <td>United Kingdom</td>\n",
       "      <td>GB</td>\n",
       "      <td>(0306) 999 0871</td>\n",
       "      <td>2004-02-23</td>\n",
       "      <td>6104719f-ef14-4b09-bf04-fb0c4620acb0</td>\n",
       "    </tr>\n",
       "    <tr>\n",
       "      <th>4</th>\n",
       "      <td>garry</td>\n",
       "      <td>stone</td>\n",
       "      <td>1952-12-20</td>\n",
       "      <td>warner inc</td>\n",
       "      <td>billy14@long-warren.com</td>\n",
       "      <td>3 white pass, hunterborough, nn96 4ue</td>\n",
       "      <td>United Kingdom</td>\n",
       "      <td>GB</td>\n",
       "      <td>0121 496 0225</td>\n",
       "      <td>2006-09-01</td>\n",
       "      <td>9523a6d3-b2dd-4670-a51a-36aebc89f579</td>\n",
       "    </tr>\n",
       "    <tr>\n",
       "      <th>...</th>\n",
       "      <td>...</td>\n",
       "      <td>...</td>\n",
       "      <td>...</td>\n",
       "      <td>...</td>\n",
       "      <td>...</td>\n",
       "      <td>...</td>\n",
       "      <td>...</td>\n",
       "      <td>...</td>\n",
       "      <td>...</td>\n",
       "      <td>...</td>\n",
       "      <td>...</td>\n",
       "    </tr>\n",
       "    <tr>\n",
       "      <th>15279</th>\n",
       "      <td>stephen</td>\n",
       "      <td>jenkins</td>\n",
       "      <td>1943-08-09</td>\n",
       "      <td>thornton, carroll and newman</td>\n",
       "      <td>s.jenkins@smith.com</td>\n",
       "      <td>studio 41i, jones lodge, oliviaborough, e8 3du</td>\n",
       "      <td>United Kingdom</td>\n",
       "      <td>GB</td>\n",
       "      <td>+44(0)292018946</td>\n",
       "      <td>2016-04-15</td>\n",
       "      <td>2bd3a12f-a92d-4cdd-b99c-fc70572db302</td>\n",
       "    </tr>\n",
       "    <tr>\n",
       "      <th>15280</th>\n",
       "      <td>stephen</td>\n",
       "      <td>smith</td>\n",
       "      <td>1948-08-20</td>\n",
       "      <td>robinson-harris</td>\n",
       "      <td>s.smith@smith.com</td>\n",
       "      <td>530 young parkway, millsfurt, l4g 7nx</td>\n",
       "      <td>United Kingdom</td>\n",
       "      <td>GB</td>\n",
       "      <td>+44(0)1144960977</td>\n",
       "      <td>2020-07-20</td>\n",
       "      <td>d234c04b-c07c-46a5-a902-526f91478ecc</td>\n",
       "    </tr>\n",
       "    <tr>\n",
       "      <th>15281</th>\n",
       "      <td>stephen</td>\n",
       "      <td>losekann</td>\n",
       "      <td>1940-10-09</td>\n",
       "      <td>rosenow</td>\n",
       "      <td>s.losekann@smith.com</td>\n",
       "      <td>viviane-fritsch-straße 35, 15064 bad liebenwerda</td>\n",
       "      <td>Germany</td>\n",
       "      <td>DE</td>\n",
       "      <td>02984 08192</td>\n",
       "      <td>2021-03-07</td>\n",
       "      <td>1a0a8b7b-7c17-42d8-a946-8a85d5495651</td>\n",
       "    </tr>\n",
       "    <tr>\n",
       "      <th>15282</th>\n",
       "      <td>stephen</td>\n",
       "      <td>rivera</td>\n",
       "      <td>1952-06-04</td>\n",
       "      <td>taylor, fry and jones</td>\n",
       "      <td>s.rivera@smith.com</td>\n",
       "      <td>660 ross falls suite 357, anthonymouth, ma 09610</td>\n",
       "      <td>United States</td>\n",
       "      <td>US</td>\n",
       "      <td>239.711.3836</td>\n",
       "      <td>2011-01-03</td>\n",
       "      <td>187fe06e-bd5f-4381-af2f-d7ac37ca7572</td>\n",
       "    </tr>\n",
       "    <tr>\n",
       "      <th>15283</th>\n",
       "      <td>stephen</td>\n",
       "      <td>duncan</td>\n",
       "      <td>1994-03-27</td>\n",
       "      <td>phillips, brown and powell</td>\n",
       "      <td>s.duncan@smith.com</td>\n",
       "      <td>studio 4, hancock road, phillipsview, st1x 3xb</td>\n",
       "      <td>United Kingdom</td>\n",
       "      <td>GB</td>\n",
       "      <td>+44(0)1314960870</td>\n",
       "      <td>2015-08-28</td>\n",
       "      <td>0589bbca-1d58-4b1f-9d0a-04ed4c57aaa1</td>\n",
       "    </tr>\n",
       "  </tbody>\n",
       "</table>\n",
       "<p>15284 rows × 11 columns</p>\n",
       "</div>"
      ],
      "text/plain": [
       "      first_name last_name date_of_birth                       company  \\\n",
       "0       sigfried     noack    1990-09-30            heydrich junitz kg   \n",
       "1            guy     allen    1940-12-01                       fox ltd   \n",
       "2          harry  lawrence    1995-08-02     johnson, jones and harris   \n",
       "3         darren   hussain    1972-09-23                   wheeler llc   \n",
       "4          garry     stone    1952-12-20                    warner inc   \n",
       "...          ...       ...           ...                           ...   \n",
       "15279    stephen   jenkins    1943-08-09  thornton, carroll and newman   \n",
       "15280    stephen     smith    1948-08-20               robinson-harris   \n",
       "15281    stephen  losekann    1940-10-09                       rosenow   \n",
       "15282    stephen    rivera    1952-06-04         taylor, fry and jones   \n",
       "15283    stephen    duncan    1994-03-27    phillips, brown and powell   \n",
       "\n",
       "                      email_address  \\\n",
       "0                 rudi79@winkler.de   \n",
       "1      rhodesclifford@henderson.com   \n",
       "2      glen98@bryant-marshall.co.uk   \n",
       "3        daniellebryan@thompson.org   \n",
       "4           billy14@long-warren.com   \n",
       "...                             ...   \n",
       "15279           s.jenkins@smith.com   \n",
       "15280             s.smith@smith.com   \n",
       "15281          s.losekann@smith.com   \n",
       "15282            s.rivera@smith.com   \n",
       "15283            s.duncan@smith.com   \n",
       "\n",
       "                                                 address         country  \\\n",
       "0                            zimmerstr. 10, 59015 gießen         Germany   \n",
       "1      studio 22a, lynne terrace, mccarthymouth, tf0 9gh  United Kingdom   \n",
       "2                     92 ann drive, joanborough, sk0 6lr  United Kingdom   \n",
       "3                 19 robinson meadow, new tracy, w22 2qg  United Kingdom   \n",
       "4                  3 white pass, hunterborough, nn96 4ue  United Kingdom   \n",
       "...                                                  ...             ...   \n",
       "15279     studio 41i, jones lodge, oliviaborough, e8 3du  United Kingdom   \n",
       "15280              530 young parkway, millsfurt, l4g 7nx  United Kingdom   \n",
       "15281   viviane-fritsch-straße 35, 15064 bad liebenwerda         Germany   \n",
       "15282   660 ross falls suite 357, anthonymouth, ma 09610   United States   \n",
       "15283     studio 4, hancock road, phillipsview, st1x 3xb  United Kingdom   \n",
       "\n",
       "      country_code       phone_number  join_date  \\\n",
       "0               DE   +49(0) 047905356 2018-10-10   \n",
       "1               GB    (0161) 496 0674 2001-12-20   \n",
       "2               GB  +44(0)121 4960340 2016-12-16   \n",
       "3               GB    (0306) 999 0871 2004-02-23   \n",
       "4               GB      0121 496 0225 2006-09-01   \n",
       "...            ...                ...        ...   \n",
       "15279           GB    +44(0)292018946 2016-04-15   \n",
       "15280           GB   +44(0)1144960977 2020-07-20   \n",
       "15281           DE        02984 08192 2021-03-07   \n",
       "15282           US       239.711.3836 2011-01-03   \n",
       "15283           GB   +44(0)1314960870 2015-08-28   \n",
       "\n",
       "                                  user_uuid  \n",
       "0      93caf182-e4e9-4c6e-bebb-60a1a9dcf9b8  \n",
       "1      8fe96c3a-d62d-4eb5-b313-cf12d9126a49  \n",
       "2      fc461df4-b919-48b2-909e-55c95a03fe6b  \n",
       "3      6104719f-ef14-4b09-bf04-fb0c4620acb0  \n",
       "4      9523a6d3-b2dd-4670-a51a-36aebc89f579  \n",
       "...                                     ...  \n",
       "15279  2bd3a12f-a92d-4cdd-b99c-fc70572db302  \n",
       "15280  d234c04b-c07c-46a5-a902-526f91478ecc  \n",
       "15281  1a0a8b7b-7c17-42d8-a946-8a85d5495651  \n",
       "15282  187fe06e-bd5f-4381-af2f-d7ac37ca7572  \n",
       "15283  0589bbca-1d58-4b1f-9d0a-04ed4c57aaa1  \n",
       "\n",
       "[15284 rows x 11 columns]"
      ]
     },
     "metadata": {},
     "output_type": "display_data"
    }
   ],
   "source": [
    "user_data = cleaner.clean_user_data()\n",
    "# lets check the data is cleaned properly\n",
    "user_data.info()\n",
    "display(user_data)"
   ]
  },
  {
   "cell_type": "markdown",
   "metadata": {},
   "source": [
    "All cleaned correctly"
   ]
  },
  {
   "cell_type": "markdown",
   "metadata": {},
   "source": [
    "Upload the dataframe to the server sales_data"
   ]
  },
  {
   "cell_type": "code",
   "execution_count": 4,
   "metadata": {},
   "outputs": [
    {
     "data": {
      "text/plain": [
       "'Dataframe uploaded to sales_data database in PostgreSQL format as dim_users'"
      ]
     },
     "execution_count": 4,
     "metadata": {},
     "output_type": "execute_result"
    }
   ],
   "source": [
    "uploader = dc()\n",
    "uploader.upload_to_db(user_data, 'dim_users')"
   ]
  },
  {
   "cell_type": "markdown",
   "metadata": {},
   "source": [
    "The message above confirms that the dataframe has been uploaded but I have also checked in PGadmin and the table is present after a refresh"
   ]
  },
  {
   "cell_type": "markdown",
   "metadata": {},
   "source": [
    "Next we can clean the card data"
   ]
  },
  {
   "cell_type": "code",
   "execution_count": 5,
   "metadata": {},
   "outputs": [],
   "source": [
    "card_data = cleaner.clean_card_data()"
   ]
  },
  {
   "cell_type": "markdown",
   "metadata": {},
   "source": [
    "Check the data has extracted and cleaned as intended"
   ]
  },
  {
   "cell_type": "code",
   "execution_count": 6,
   "metadata": {},
   "outputs": [
    {
     "name": "stdout",
     "output_type": "stream",
     "text": [
      "<class 'pandas.core.frame.DataFrame'>\n",
      "RangeIndex: 15284 entries, 0 to 15283\n",
      "Data columns (total 4 columns):\n",
      " #   Column                  Non-Null Count  Dtype         \n",
      "---  ------                  --------------  -----         \n",
      " 0   card_number             15284 non-null  int64         \n",
      " 1   expiry_date             15284 non-null  datetime64[ns]\n",
      " 2   card_provider           15284 non-null  category      \n",
      " 3   date_payment_confirmed  15284 non-null  datetime64[ns]\n",
      "dtypes: category(1), datetime64[ns](2), int64(1)\n",
      "memory usage: 374.0 KB\n"
     ]
    },
    {
     "data": {
      "text/html": [
       "<div>\n",
       "<style scoped>\n",
       "    .dataframe tbody tr th:only-of-type {\n",
       "        vertical-align: middle;\n",
       "    }\n",
       "\n",
       "    .dataframe tbody tr th {\n",
       "        vertical-align: top;\n",
       "    }\n",
       "\n",
       "    .dataframe thead th {\n",
       "        text-align: right;\n",
       "    }\n",
       "</style>\n",
       "<table border=\"1\" class=\"dataframe\">\n",
       "  <thead>\n",
       "    <tr style=\"text-align: right;\">\n",
       "      <th></th>\n",
       "      <th>card_number</th>\n",
       "      <th>expiry_date</th>\n",
       "      <th>card_provider</th>\n",
       "      <th>date_payment_confirmed</th>\n",
       "    </tr>\n",
       "  </thead>\n",
       "  <tbody>\n",
       "    <tr>\n",
       "      <th>0</th>\n",
       "      <td>30060773296197</td>\n",
       "      <td>2026-09-01</td>\n",
       "      <td>Diners Club / Carte Blanche</td>\n",
       "      <td>2015-11-25</td>\n",
       "    </tr>\n",
       "    <tr>\n",
       "      <th>1</th>\n",
       "      <td>349624180933183</td>\n",
       "      <td>2023-10-01</td>\n",
       "      <td>American Express</td>\n",
       "      <td>2001-06-18</td>\n",
       "    </tr>\n",
       "    <tr>\n",
       "      <th>2</th>\n",
       "      <td>3529023891650490</td>\n",
       "      <td>2023-06-01</td>\n",
       "      <td>JCB 16 digit</td>\n",
       "      <td>2000-12-26</td>\n",
       "    </tr>\n",
       "    <tr>\n",
       "      <th>3</th>\n",
       "      <td>213142929492281</td>\n",
       "      <td>2027-09-01</td>\n",
       "      <td>JCB 15 digit</td>\n",
       "      <td>2011-02-12</td>\n",
       "    </tr>\n",
       "    <tr>\n",
       "      <th>4</th>\n",
       "      <td>502067329974</td>\n",
       "      <td>2025-10-01</td>\n",
       "      <td>Maestro</td>\n",
       "      <td>1997-03-13</td>\n",
       "    </tr>\n",
       "    <tr>\n",
       "      <th>...</th>\n",
       "      <td>...</td>\n",
       "      <td>...</td>\n",
       "      <td>...</td>\n",
       "      <td>...</td>\n",
       "    </tr>\n",
       "    <tr>\n",
       "      <th>15279</th>\n",
       "      <td>180036921556789</td>\n",
       "      <td>2028-12-01</td>\n",
       "      <td>JCB 15 digit</td>\n",
       "      <td>1997-06-06</td>\n",
       "    </tr>\n",
       "    <tr>\n",
       "      <th>15280</th>\n",
       "      <td>180018030448512</td>\n",
       "      <td>2024-11-01</td>\n",
       "      <td>JCB 15 digit</td>\n",
       "      <td>2004-06-16</td>\n",
       "    </tr>\n",
       "    <tr>\n",
       "      <th>15281</th>\n",
       "      <td>3569953313547220</td>\n",
       "      <td>2024-04-01</td>\n",
       "      <td>JCB 16 digit</td>\n",
       "      <td>2020-02-05</td>\n",
       "    </tr>\n",
       "    <tr>\n",
       "      <th>15282</th>\n",
       "      <td>4444521712606810</td>\n",
       "      <td>2027-06-01</td>\n",
       "      <td>VISA 16 digit</td>\n",
       "      <td>2008-06-16</td>\n",
       "    </tr>\n",
       "    <tr>\n",
       "      <th>15283</th>\n",
       "      <td>372031786522735</td>\n",
       "      <td>2030-02-01</td>\n",
       "      <td>American Express</td>\n",
       "      <td>2009-02-04</td>\n",
       "    </tr>\n",
       "  </tbody>\n",
       "</table>\n",
       "<p>15284 rows × 4 columns</p>\n",
       "</div>"
      ],
      "text/plain": [
       "            card_number expiry_date                card_provider  \\\n",
       "0        30060773296197  2026-09-01  Diners Club / Carte Blanche   \n",
       "1       349624180933183  2023-10-01             American Express   \n",
       "2      3529023891650490  2023-06-01                 JCB 16 digit   \n",
       "3       213142929492281  2027-09-01                 JCB 15 digit   \n",
       "4          502067329974  2025-10-01                      Maestro   \n",
       "...                 ...         ...                          ...   \n",
       "15279   180036921556789  2028-12-01                 JCB 15 digit   \n",
       "15280   180018030448512  2024-11-01                 JCB 15 digit   \n",
       "15281  3569953313547220  2024-04-01                 JCB 16 digit   \n",
       "15282  4444521712606810  2027-06-01                VISA 16 digit   \n",
       "15283   372031786522735  2030-02-01             American Express   \n",
       "\n",
       "      date_payment_confirmed  \n",
       "0                 2015-11-25  \n",
       "1                 2001-06-18  \n",
       "2                 2000-12-26  \n",
       "3                 2011-02-12  \n",
       "4                 1997-03-13  \n",
       "...                      ...  \n",
       "15279             1997-06-06  \n",
       "15280             2004-06-16  \n",
       "15281             2020-02-05  \n",
       "15282             2008-06-16  \n",
       "15283             2009-02-04  \n",
       "\n",
       "[15284 rows x 4 columns]"
      ]
     },
     "metadata": {},
     "output_type": "display_data"
    }
   ],
   "source": [
    "card_data.info()\n",
    "display(card_data)"
   ]
  },
  {
   "cell_type": "markdown",
   "metadata": {},
   "source": [
    "Upload the card data"
   ]
  },
  {
   "cell_type": "code",
   "execution_count": 7,
   "metadata": {},
   "outputs": [
    {
     "data": {
      "text/plain": [
       "'Dataframe uploaded to sales_data database in PostgreSQL format as dim_card_details'"
      ]
     },
     "execution_count": 7,
     "metadata": {},
     "output_type": "execute_result"
    }
   ],
   "source": [
    "uploader.upload_to_db(card_data, 'dim_card_details')"
   ]
  },
  {
   "cell_type": "markdown",
   "metadata": {},
   "source": [
    "Present on server in pgadmin. Correctly uploaded."
   ]
  },
  {
   "cell_type": "markdown",
   "metadata": {},
   "source": [
    "Extract and clean and upload the store data"
   ]
  },
  {
   "cell_type": "code",
   "execution_count": 8,
   "metadata": {},
   "outputs": [
    {
     "data": {
      "text/plain": [
       "'Dataframe uploaded to sales_data database in PostgreSQL format as dim_store_details'"
      ]
     },
     "execution_count": 8,
     "metadata": {},
     "output_type": "execute_result"
    }
   ],
   "source": [
    "store_data = cleaner.clean_store_data()\n",
    "uploader.upload_to_db(store_data, 'dim_store_details')"
   ]
  }
 ],
 "metadata": {
  "kernelspec": {
   "display_name": "base",
   "language": "python",
   "name": "python3"
  },
  "language_info": {
   "codemirror_mode": {
    "name": "ipython",
    "version": 3
   },
   "file_extension": ".py",
   "mimetype": "text/x-python",
   "name": "python",
   "nbconvert_exporter": "python",
   "pygments_lexer": "ipython3",
   "version": "3.11.4"
  }
 },
 "nbformat": 4,
 "nbformat_minor": 2
}
